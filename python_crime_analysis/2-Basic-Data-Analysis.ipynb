{
 "cells": [
  {
   "cell_type": "code",
   "execution_count": null,
   "metadata": {},
   "outputs": [],
   "source": [
    "%pip install -r requirements.txt"
   ]
  },
  {
   "cell_type": "code",
   "execution_count": null,
   "metadata": {},
   "outputs": [],
   "source": [
    "from CC_DB_Constants import CC_DB_TABLE_DEFINTIONS, DB_USR_CONFIG, TABLE_NAMES, DB_COLUMN_NAME_MAP\n",
    "\n",
    "import mysql.connector\n",
    "import mysql.connector.errorcode\n",
    "from sqlalchemy import create_engine\n",
    "import pymysql\n",
    "\n",
    "con_string = f\"mysql+pymysql://{DB_USR_CONFIG['user']}:{DB_USR_CONFIG['password']}@{DB_USR_CONFIG['host']}/{DB_USR_CONFIG['database']}\""
   ]
  },
  {
   "cell_type": "code",
   "execution_count": null,
   "metadata": {},
   "outputs": [],
   "source": [
    "import pandas as pd\n",
    "import hvplot.pandas"
   ]
  },
  {
   "cell_type": "code",
   "execution_count": null,
   "metadata": {},
   "outputs": [],
   "source": [
    "basic_crime_over_years_query = f\"\"\"\n",
    "SELECT \n",
    "\t`year` AS YEAR, \n",
    "\tCOUNT(*) AS total_incidents\n",
    "FROM \n",
    "\tchicagocrime.crime_records cr \n",
    "GROUP BY \n",
    "\t`year` \n",
    "ORDER BY \n",
    "\t`year`;\n",
    "\"\"\""
   ]
  },
  {
   "cell_type": "code",
   "execution_count": null,
   "metadata": {},
   "outputs": [],
   "source": [
    "basic_crime_by_type_over_years_query = f\"\"\"\n",
    "SELECT \n",
    "\t`year` AS YEAR, \n",
    "\tprimary_type AS primary_type,\n",
    "\tCOUNT(*) AS total_incidents\n",
    "FROM \n",
    "\tchicagocrime.crime_records cr \n",
    "GROUP BY \n",
    "\t`year`,\n",
    "\tprimary_type \n",
    "ORDER BY \n",
    "\t`year`,\n",
    "\tprimary_type;\n",
    "\"\"\""
   ]
  },
  {
   "cell_type": "code",
   "execution_count": null,
   "metadata": {},
   "outputs": [],
   "source": [
    "crime_by_type_over_years_query = f\"\"\"\n",
    "SELECT \n",
    "    YEAR(crime_date) AS year,\n",
    "    incident_type,\n",
    "    COUNT(*) AS total_incidents\n",
    "FROM \n",
    "    crime_table\n",
    "WHERE \n",
    "    incident_type IN (\n",
    "        SELECT \n",
    "            incident_type\n",
    "        FROM \n",
    "            crime_table\n",
    "        GROUP BY \n",
    "            incident_type\n",
    "        ORDER BY \n",
    "            COUNT(*) DESC\n",
    "        LIMIT 10\n",
    "    )\n",
    "GROUP BY \n",
    "    YEAR(crime_date),\n",
    "    incident_type\n",
    "ORDER BY \n",
    "    year,\n",
    "    incident_type;\n",
    "\"\"\""
   ]
  }
 ],
 "metadata": {
  "kernelspec": {
   "display_name": ".venv",
   "language": "python",
   "name": "python3"
  },
  "language_info": {
   "codemirror_mode": {
    "name": "ipython",
    "version": 3
   },
   "file_extension": ".py",
   "mimetype": "text/x-python",
   "name": "python",
   "nbconvert_exporter": "python",
   "pygments_lexer": "ipython3",
   "version": "3.12.7"
  }
 },
 "nbformat": 4,
 "nbformat_minor": 2
}
